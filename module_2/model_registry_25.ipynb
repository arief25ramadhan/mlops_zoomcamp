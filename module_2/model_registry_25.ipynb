{
 "cells": [
  {
   "cell_type": "markdown",
   "metadata": {},
   "source": [
    "# Model Registry"
   ]
  },
  {
   "cell_type": "code",
   "execution_count": 2,
   "metadata": {},
   "outputs": [],
   "source": [
    "from mlflow.tracking import MlflowClient\n",
    "\n",
    "MLFLOW_TRACKING_URI = \"sqlite:///mlflow.db\"\n",
    "client = MlflowClient(tracking_uri=MLFLOW_TRACKING_URI)"
   ]
  },
  {
   "cell_type": "code",
   "execution_count": 4,
   "metadata": {},
   "outputs": [
    {
     "data": {
      "text/plain": [
       "[<Experiment: artifact_location='/home/arief/Desktop/projects/mlops_zoomcamp/module_2/mlruns/3', creation_time=1739805245793, experiment_id='3', last_update_time=1739805245793, lifecycle_stage='active', name='nyc-taxi-experiment-24', tags={}>,\n",
       " <Experiment: artifact_location='/home/arief/Desktop/projects/mlops_zoomcamp/module_2/mlruns/2', creation_time=1739801488499, experiment_id='2', last_update_time=1739801488499, lifecycle_stage='active', name='nyc-taxi-experiment-23', tags={}>,\n",
       " <Experiment: artifact_location='/home/arief/Desktop/projects/mlops_zoomcamp/module_2/mlruns/1', creation_time=1738849628527, experiment_id='1', last_update_time=1738849628527, lifecycle_stage='active', name='nyc-taxi-experiment', tags={}>]"
      ]
     },
     "execution_count": 4,
     "metadata": {},
     "output_type": "execute_result"
    }
   ],
   "source": [
    "# List all experiments\n",
    "client.search_experiments()"
   ]
  },
  {
   "cell_type": "code",
   "execution_count": 5,
   "metadata": {},
   "outputs": [
    {
     "data": {
      "text/plain": [
       "'4'"
      ]
     },
     "execution_count": 5,
     "metadata": {},
     "output_type": "execute_result"
    }
   ],
   "source": [
    "# Create new experiment\n",
    "client.create_experiment(name=\"my_cool_experiment\")"
   ]
  },
  {
   "cell_type": "code",
   "execution_count": 13,
   "metadata": {},
   "outputs": [
    {
     "data": {
      "text/plain": [
       "[<Run: data=<RunData: metrics={'rmse': 6.31451242969249}, params={'learning_rate': '0.2041',\n",
       "  'max_depth': '17',\n",
       "  'min_child_weight': '1.2402',\n",
       "  'objective': 'reg:linear',\n",
       "  'reg_alpha': '0.28567',\n",
       "  'reg_lambda': '0.00426',\n",
       "  'seed': '42'}, tags={'mlflow.log-model.history': '[{\"run_id\": \"c1ff55b974cb4607a8b32dacbd0b5e96\", '\n",
       "                              '\"artifact_path\": \"models_mlflow\", '\n",
       "                              '\"utc_time_created\": \"2025-02-18 '\n",
       "                              '13:32:27.427557\", \"model_uuid\": '\n",
       "                              '\"35e7c95b491145d09e2a0e26a3245598\", \"flavors\": '\n",
       "                              '{\"python_function\": {\"loader_module\": '\n",
       "                              '\"mlflow.xgboost\", \"python_version\": \"3.8.10\", '\n",
       "                              '\"data\": \"model.xgb\", \"env\": {\"conda\": '\n",
       "                              '\"conda.yaml\", \"virtualenv\": \"python_env.yaml\"}}, '\n",
       "                              '\"xgboost\": {\"xgb_version\": \"2.1.4\", \"data\": '\n",
       "                              '\"model.xgb\", \"model_class\": '\n",
       "                              '\"xgboost.core.Booster\", \"model_format\": \"xgb\", '\n",
       "                              '\"code\": null}}}]',\n",
       "  'mlflow.runName': 'popular-ram-66',\n",
       "  'mlflow.source.name': '/home/arief/.local/lib/python3.8/site-packages/ipykernel_launcher.py',\n",
       "  'mlflow.source.type': 'LOCAL',\n",
       "  'mlflow.user': 'arief'}>, info=<RunInfo: artifact_uri='/home/arief/Desktop/projects/mlops_zoomcamp/module_2/mlruns/3/c1ff55b974cb4607a8b32dacbd0b5e96/artifacts', end_time=1739885548594, experiment_id='3', lifecycle_stage='active', run_id='c1ff55b974cb4607a8b32dacbd0b5e96', run_name='popular-ram-66', run_uuid='c1ff55b974cb4607a8b32dacbd0b5e96', start_time=1739885510982, status='FINISHED', user_id='arief'>, inputs=<RunInputs: dataset_inputs=[]>>,\n",
       " <Run: data=<RunData: metrics={'rmse': 6.31451242969249}, params={'learning_rate': '0.2041',\n",
       "  'max_depth': '17',\n",
       "  'min_child_weight': '1.2402',\n",
       "  'objective': 'reg:linear',\n",
       "  'reg_alpha': '0.28567',\n",
       "  'reg_lambda': '0.00426',\n",
       "  'seed': '42'}, tags={'mlflow.log-model.history': '[{\"run_id\": \"e6c8772ef4a442a6af5a6851f9ad8ddf\", '\n",
       "                              '\"artifact_path\": \"models_mlflow\", '\n",
       "                              '\"utc_time_created\": \"2025-02-18 '\n",
       "                              '13:24:43.898402\", \"model_uuid\": '\n",
       "                              '\"761f1f3d18e74cbbbdf7555d0d059860\", \"flavors\": '\n",
       "                              '{\"python_function\": {\"loader_module\": '\n",
       "                              '\"mlflow.xgboost\", \"python_version\": \"3.8.10\", '\n",
       "                              '\"data\": \"model.xgb\", \"env\": {\"conda\": '\n",
       "                              '\"conda.yaml\", \"virtualenv\": \"python_env.yaml\"}}, '\n",
       "                              '\"xgboost\": {\"xgb_version\": \"2.1.4\", \"data\": '\n",
       "                              '\"model.xgb\", \"model_class\": '\n",
       "                              '\"xgboost.core.Booster\", \"model_format\": \"xgb\", '\n",
       "                              '\"code\": null}}}]',\n",
       "  'mlflow.runName': 'caring-sponge-251',\n",
       "  'mlflow.source.name': '/home/arief/.local/lib/python3.8/site-packages/ipykernel_launcher.py',\n",
       "  'mlflow.source.type': 'LOCAL',\n",
       "  'mlflow.user': 'arief'}>, info=<RunInfo: artifact_uri='/home/arief/Desktop/projects/mlops_zoomcamp/module_2/mlruns/3/e6c8772ef4a442a6af5a6851f9ad8ddf/artifacts', end_time=1739885085692, experiment_id='3', lifecycle_stage='active', run_id='e6c8772ef4a442a6af5a6851f9ad8ddf', run_name='caring-sponge-251', run_uuid='e6c8772ef4a442a6af5a6851f9ad8ddf', start_time=1739885040427, status='FINISHED', user_id='arief'>, inputs=<RunInputs: dataset_inputs=[]>>,\n",
       " <Run: data=<RunData: metrics={'rmse': 6.31451242969249}, params={'learning_rate': '0.2041',\n",
       "  'max_depth': '17',\n",
       "  'min_child_weight': '1.2402',\n",
       "  'objective': 'reg:linear',\n",
       "  'reg_alpha': '0.28567',\n",
       "  'reg_lambda': '0.00426',\n",
       "  'seed': '42'}, tags={'mlflow.log-model.history': '[{\"run_id\": \"7cdfab6e658940578dee695f46fe7f3f\", '\n",
       "                              '\"artifact_path\": \"models_mlflow\", '\n",
       "                              '\"utc_time_created\": \"2025-02-17 '\n",
       "                              '15:35:17.068071\", \"model_uuid\": '\n",
       "                              '\"ff9b1f97af10467e902887a36772ca2d\", \"flavors\": '\n",
       "                              '{\"python_function\": {\"loader_module\": '\n",
       "                              '\"mlflow.xgboost\", \"python_version\": \"3.8.10\", '\n",
       "                              '\"data\": \"model.xgb\", \"env\": {\"conda\": '\n",
       "                              '\"conda.yaml\", \"virtualenv\": \"python_env.yaml\"}}, '\n",
       "                              '\"xgboost\": {\"xgb_version\": \"2.1.4\", \"data\": '\n",
       "                              '\"model.xgb\", \"model_class\": '\n",
       "                              '\"xgboost.core.Booster\", \"model_format\": \"xgb\", '\n",
       "                              '\"code\": null}}}]',\n",
       "  'mlflow.runName': 'debonair-wasp-182',\n",
       "  'mlflow.source.name': '/home/arief/.local/lib/python3.8/site-packages/ipykernel_launcher.py',\n",
       "  'mlflow.source.type': 'LOCAL',\n",
       "  'mlflow.user': 'arief'}>, info=<RunInfo: artifact_uri='/home/arief/Desktop/projects/mlops_zoomcamp/module_2/mlruns/3/7cdfab6e658940578dee695f46fe7f3f/artifacts', end_time=1739806518769, experiment_id='3', lifecycle_stage='active', run_id='7cdfab6e658940578dee695f46fe7f3f', run_name='debonair-wasp-182', run_uuid='7cdfab6e658940578dee695f46fe7f3f', start_time=1739806470564, status='FINISHED', user_id='arief'>, inputs=<RunInputs: dataset_inputs=[]>>,\n",
       " <Run: data=<RunData: metrics={'rmse': 11.167275941179728}, params={'alpha': '0.01',\n",
       "  'train-data-path': 'green_tripdata_2021-01.parquet',\n",
       "  'val-data-path': 'green_tripdata_2021-02.parquet'}, tags={'developer': 'arief',\n",
       "  'mlflow.runName': 'fortunate-foal-178',\n",
       "  'mlflow.source.name': '/home/arief/.local/lib/python3.8/site-packages/ipykernel_launcher.py',\n",
       "  'mlflow.source.type': 'LOCAL',\n",
       "  'mlflow.user': 'arief'}>, info=<RunInfo: artifact_uri='/home/arief/Desktop/projects/mlops_zoomcamp/module_2/mlruns/3/d9da016e52ad473688a12b882b4980b9/artifacts', end_time=1739884937256, experiment_id='3', lifecycle_stage='active', run_id='d9da016e52ad473688a12b882b4980b9', run_name='fortunate-foal-178', run_uuid='d9da016e52ad473688a12b882b4980b9', start_time=1739884931049, status='FINISHED', user_id='arief'>, inputs=<RunInputs: dataset_inputs=[]>>,\n",
       " <Run: data=<RunData: metrics={'rmse': 11.167275941179728}, params={'alpha': '0.01',\n",
       "  'train-data-path': 'green_tripdata_2021-01.parquet',\n",
       "  'val-data-path': 'green_tripdata_2021-02.parquet'}, tags={'developer': 'arief',\n",
       "  'mlflow.runName': 'stylish-calf-42',\n",
       "  'mlflow.source.name': '/home/arief/.local/lib/python3.8/site-packages/ipykernel_launcher.py',\n",
       "  'mlflow.source.type': 'LOCAL',\n",
       "  'mlflow.user': 'arief'}>, info=<RunInfo: artifact_uri='/home/arief/Desktop/projects/mlops_zoomcamp/module_2/mlruns/3/6aefcd60503d49b6a7f696d038ec6425/artifacts', end_time=1739805881343, experiment_id='3', lifecycle_stage='active', run_id='6aefcd60503d49b6a7f696d038ec6425', run_name='stylish-calf-42', run_uuid='6aefcd60503d49b6a7f696d038ec6425', start_time=1739805875292, status='FINISHED', user_id='arief'>, inputs=<RunInputs: dataset_inputs=[]>>]"
      ]
     },
     "execution_count": 13,
     "metadata": {},
     "output_type": "execute_result"
    }
   ],
   "source": [
    "from mlflow.entities import ViewType\n",
    "\n",
    "# List runs\n",
    "runs = client.search_runs(\n",
    "    experiment_ids='3',\n",
    "    filter_string=\"metrics.rmse < 12\",\n",
    "    run_view_type=ViewType.ACTIVE_ONLY,\n",
    "    max_results=5,\n",
    "    order_by=[\"metrics.rmse ASC\"]\n",
    ")\n",
    "\n",
    "runs"
   ]
  },
  {
   "cell_type": "code",
   "execution_count": 14,
   "metadata": {},
   "outputs": [
    {
     "name": "stdout",
     "output_type": "stream",
     "text": [
      "run id: c1ff55b974cb4607a8b32dacbd0b5e96, rmse: 6.3145\n",
      "run id: e6c8772ef4a442a6af5a6851f9ad8ddf, rmse: 6.3145\n",
      "run id: 7cdfab6e658940578dee695f46fe7f3f, rmse: 6.3145\n",
      "run id: d9da016e52ad473688a12b882b4980b9, rmse: 11.1673\n",
      "run id: 6aefcd60503d49b6a7f696d038ec6425, rmse: 11.1673\n"
     ]
    }
   ],
   "source": [
    "for run in runs:\n",
    "    print(f\"run id: {run.info.run_id}, rmse: {run.data.metrics['rmse']:.4f}\")"
   ]
  },
  {
   "cell_type": "code",
   "execution_count": 12,
   "metadata": {},
   "outputs": [],
   "source": [
    "import mlflow\n",
    "mlflow.set_tracking_uri(MLFLOW_TRACKING_URI)"
   ]
  },
  {
   "cell_type": "code",
   "execution_count": 16,
   "metadata": {},
   "outputs": [
    {
     "name": "stderr",
     "output_type": "stream",
     "text": [
      "Registered model 'nyc-taxi-regressor' already exists. Creating a new version of this model...\n",
      "Created version '4' of model 'nyc-taxi-regressor'.\n"
     ]
    },
    {
     "data": {
      "text/plain": [
       "<ModelVersion: aliases=[], creation_timestamp=1739890393831, current_stage='None', description=None, last_updated_timestamp=1739890393831, name='nyc-taxi-regressor', run_id='7cdfab6e658940578dee695f46fe7f3f', run_link=None, source='/home/arief/Desktop/projects/mlops_zoomcamp/module_2/mlruns/3/7cdfab6e658940578dee695f46fe7f3f/artifacts/model', status='READY', status_message=None, tags={}, user_id=None, version=4>"
      ]
     },
     "execution_count": 16,
     "metadata": {},
     "output_type": "execute_result"
    }
   ],
   "source": [
    "run_id = \"7cdfab6e658940578dee695f46fe7f3f\"\n",
    "model_uri = f\"runs:/{run_id}/model\"\n",
    "\n",
    "mlflow.register_model(model_uri=model_uri, name=\"nyc-taxi-regressor\")"
   ]
  },
  {
   "cell_type": "code",
   "execution_count": 17,
   "metadata": {},
   "outputs": [
    {
     "data": {
      "text/plain": [
       "[<RegisteredModel: aliases={'production': 2, 'staging': 1}, creation_timestamp=1739888067544, description='The NYC Taxi Predictor for Trip Duration', last_updated_timestamp=1739890393831, latest_versions=[<ModelVersion: aliases=[], creation_timestamp=1739890393831, current_stage='None', description=None, last_updated_timestamp=1739890393831, name='nyc-taxi-regressor', run_id='7cdfab6e658940578dee695f46fe7f3f', run_link=None, source='/home/arief/Desktop/projects/mlops_zoomcamp/module_2/mlruns/3/7cdfab6e658940578dee695f46fe7f3f/artifacts/model', status='READY', status_message=None, tags={}, user_id=None, version=4>], name='nyc-taxi-regressor', tags={}>]"
      ]
     },
     "execution_count": 17,
     "metadata": {},
     "output_type": "execute_result"
    }
   ],
   "source": [
    "# List all registered models\n",
    "client.search_registered_models()"
   ]
  },
  {
   "cell_type": "code",
   "execution_count": 20,
   "metadata": {},
   "outputs": [
    {
     "name": "stdout",
     "output_type": "stream",
     "text": [
      "version 1, stage: Production\n",
      "version 2, stage: Staging\n",
      "version 4, stage: None\n"
     ]
    },
    {
     "name": "stderr",
     "output_type": "stream",
     "text": [
      "/tmp/ipykernel_15359/3911191777.py:2: FutureWarning: ``mlflow.tracking.client.MlflowClient.get_latest_versions`` is deprecated since 2.9.0. Model registry stages will be removed in a future major release. To learn more about the deprecation of model registry stages, see our migration guide here: https://mlflow.org/docs/latest/model-registry.html#migrating-from-stages\n",
      "  latest_versions = client.get_latest_versions(name=model_name)\n"
     ]
    }
   ],
   "source": [
    "model_name = \"nyc-taxi-regressor\"\n",
    "latest_versions = client.get_latest_versions(name=model_name)\n",
    "\n",
    "for version in latest_versions:\n",
    "    print(f\"version {version.version}, stage: {version.current_stage}\")\n"
   ]
  },
  {
   "cell_type": "code",
   "execution_count": 21,
   "metadata": {},
   "outputs": [
    {
     "name": "stderr",
     "output_type": "stream",
     "text": [
      "/tmp/ipykernel_15359/591136789.py:2: FutureWarning: ``mlflow.tracking.client.MlflowClient.transition_model_version_stage`` is deprecated since 2.9.0. Model registry stages will be removed in a future major release. To learn more about the deprecation of model registry stages, see our migration guide here: https://mlflow.org/docs/latest/model-registry.html#migrating-from-stages\n",
      "  client.transition_model_version_stage(\n"
     ]
    },
    {
     "data": {
      "text/plain": [
       "<ModelVersion: aliases=[], creation_timestamp=1739890393831, current_stage='Staging', description=None, last_updated_timestamp=1739891019350, name='nyc-taxi-regressor', run_id='7cdfab6e658940578dee695f46fe7f3f', run_link=None, source='/home/arief/Desktop/projects/mlops_zoomcamp/module_2/mlruns/3/7cdfab6e658940578dee695f46fe7f3f/artifacts/model', status='READY', status_message=None, tags={}, user_id=None, version=4>"
      ]
     },
     "execution_count": 21,
     "metadata": {},
     "output_type": "execute_result"
    }
   ],
   "source": [
    "# Promote version 4 to staging\n",
    "client.transition_model_version_stage(\n",
    "    name=model_name,\n",
    "    version=4,\n",
    "    stage=\"Staging\",\n",
    "    archive_existing_versions=False\n",
    ")"
   ]
  },
  {
   "cell_type": "code",
   "execution_count": 23,
   "metadata": {},
   "outputs": [
    {
     "data": {
      "text/plain": [
       "<ModelVersion: aliases=[], creation_timestamp=1739890393831, current_stage='Staging', description='The model version 4 was transitioned to Staging on 2025-02-18', last_updated_timestamp=1739891324915, name='nyc-taxi-regressor', run_id='7cdfab6e658940578dee695f46fe7f3f', run_link=None, source='/home/arief/Desktop/projects/mlops_zoomcamp/module_2/mlruns/3/7cdfab6e658940578dee695f46fe7f3f/artifacts/model', status='READY', status_message=None, tags={}, user_id=None, version=4>"
      ]
     },
     "execution_count": 23,
     "metadata": {},
     "output_type": "execute_result"
    }
   ],
   "source": [
    "from datetime import datetime\n",
    "\n",
    "model_version = 4\n",
    "new_stage = \"Staging\"\n",
    "date = datetime.today().date()\n",
    "# Update model\n",
    "\n",
    "client.update_model_version(\n",
    "    name=model_name,\n",
    "    version=model_version,\n",
    "    description=f\"The model version {model_version} was transitioned to {new_stage} on {date}\"\n",
    ")"
   ]
  },
  {
   "cell_type": "markdown",
   "metadata": {},
   "source": [
    "## A More End to End Process"
   ]
  },
  {
   "cell_type": "code",
   "execution_count": null,
   "metadata": {},
   "outputs": [],
   "source": [
    "from sklearn.metrics import mean_squared_error\n",
    "import pandas as pd\n",
    "\n",
    "# Read dataframe\n",
    "def read_dataframe(filename):\n",
    "    \n",
    "    df = pd.read_parquet(filename)    \n",
    "    # Change column type\n",
    "    df['lpep_pickup_datetime'] = pd.to_datetime(df['lpep_pickup_datetime'])\n",
    "    df['lpep_dropoff_datetime'] = pd.to_datetime(df['lpep_dropoff_datetime'])\n",
    "\n",
    "    # Get trip duration\n",
    "    df['duration'] = df['lpep_dropoff_datetime'] - df['lpep_pickup_datetime']\n",
    "    # Change duration to minutes\n",
    "    df['duration'] = df['duration'].apply(lambda d: d.total_seconds()/60)\n",
    "    df = df.query('1 <= duration <=60')\n",
    "\n",
    "    categorical = ['PULocationID', 'DOLocationID']\n",
    "    # Change datatype to str so we can perform one hot encoding on it\n",
    "    df[categorical] = df[categorical].astype(str)\n",
    "    \n",
    "    return df\n",
    "\n",
    "# Preprocess\n",
    "def preprocess(df, dv):\n",
    "\n",
    "    df['PU_DO'] = df['PULocationID'] + '_' + df['DOLocationID']\n",
    "    categorical = ['PU_DO']\n",
    "    numerical = ['trip_distance']\n",
    "    data_dicts = df[categorical + numerical].to_dict(orient='records')\n",
    "\n",
    "    return dv.transform(data_dicts)\n",
    "\n",
    "# Test model\n",
    "def test_model(name, stage, X_test, y_test):\n",
    "\n",
    "    model = mlflow.pyfunc.load_model(f\"models:/{name}/{stage}\")\n",
    "    y_pred = model.predict(X_test)\n",
    "\n",
    "    return {\"rmse\": mean_squared_error(y_test, y_pred, squared=False)}"
   ]
  }
 ],
 "metadata": {
  "kernelspec": {
   "display_name": "Python 3",
   "language": "python",
   "name": "python3"
  },
  "language_info": {
   "codemirror_mode": {
    "name": "ipython",
    "version": 3
   },
   "file_extension": ".py",
   "mimetype": "text/x-python",
   "name": "python",
   "nbconvert_exporter": "python",
   "pygments_lexer": "ipython3",
   "version": "3.8.10"
  }
 },
 "nbformat": 4,
 "nbformat_minor": 2
}
