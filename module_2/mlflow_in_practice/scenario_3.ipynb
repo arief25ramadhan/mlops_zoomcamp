{
 "cells": [
  {
   "cell_type": "markdown",
   "metadata": {},
   "source": [
    "# MLflow in Practice\n",
    "\n",
    "## Scenarios\n",
    "\n",
    "Let's consider these 3 scenarios:\n",
    "1. A single data scientist participating in an ML competition.\n",
    "2. A cross-functional team with one data scientist working on an ML model.\n",
    "3. Multiple data scientist working on multiple ML models.\n",
    "\n",
    "## Configuring MLflow\n",
    "\n",
    "- Backend store: where MLflow save the metadata of your experiment\n",
    "    - Local filesystem\n",
    "    - SQLAlchemy compatible DB (e.g. SQLite)\n",
    "- Artifacts store:\n",
    "    - Local filesystem\n",
    "    - Remote (e.g. s3 bucket)\n",
    "- Tracking server:\n",
    "    - No tracking server\n",
    "    - Localhost\n",
    "    - Remote"
   ]
  },
  {
   "cell_type": "markdown",
   "metadata": {},
   "source": [
    "# Scenario 3: Multiple data scientist working on multiple ML models.\n",
    "\n",
    "MLflow setup:\n",
    "- Backend store: SQLite database\n",
    "- Artifacts store: s3 bucket\n",
    "- Tracking server: Yes, remote server (EC2)\n",
    "\n",
    "The experiments can be explored by accessing the remote server.\n",
    "\n",
    "The example uses AWS to host a remote server. In order to run the example, you'll need an AWS account. Follow the steps described in the file `mlflow_on_aws.md` to create a new AWS account and launch the tracking server."
   ]
  },
  {
   "cell_type": "code",
   "execution_count": 7,
   "metadata": {},
   "outputs": [],
   "source": [
    "# Before begin, run this first in terminal: \n",
    "# mlflow server --backend-store-uri sqlite:///backend.db\n",
    "\n",
    "# Import libraries\n",
    "import mlflow\n",
    "import os\n",
    "\n",
    "\n",
    "# To set profile: \n",
    "# export AWS_PROFILE=arief-profile\n",
    "os.environ[\"AWS_PROFILE\"] = \"arief-profile\"\n",
    "\n",
    "TRACKING_SERVER_HOST = \"ec2-3-144-93-102.us-east-2.compute.amazonaws.com\"\n",
    "\n",
    "# Set tracking URI\n",
    "mlflow.set_tracking_uri(f\"http://{TRACKING_SERVER_HOST}:5000\")"
   ]
  },
  {
   "cell_type": "code",
   "execution_count": 8,
   "metadata": {},
   "outputs": [
    {
     "name": "stdout",
     "output_type": "stream",
     "text": [
      "Tracking URI: http://ec2-3-144-93-102.us-east-2.compute.amazonaws.com:5000\n"
     ]
    }
   ],
   "source": [
    "print(f\"Tracking URI: {mlflow.get_tracking_uri()}\")"
   ]
  },
  {
   "cell_type": "code",
   "execution_count": 9,
   "metadata": {},
   "outputs": [
    {
     "data": {
      "text/plain": [
       "[<Experiment: artifact_location='s3://mlflow-artifacts-remote-arief/1', creation_time=1740152355909, experiment_id='1', last_update_time=1740152355909, lifecycle_stage='active', name='my-experiment-1', tags={}>,\n",
       " <Experiment: artifact_location='s3://mlflow-artifacts-remote-arief/0', creation_time=1740151937552, experiment_id='0', last_update_time=1740151937552, lifecycle_stage='active', name='Default', tags={}>]"
      ]
     },
     "execution_count": 9,
     "metadata": {},
     "output_type": "execute_result"
    }
   ],
   "source": [
    "mlflow.search_experiments()"
   ]
  },
  {
   "cell_type": "code",
   "execution_count": 10,
   "metadata": {},
   "outputs": [
    {
     "name": "stderr",
     "output_type": "stream",
     "text": [
      "2025/02/21 23:05:52 WARNING mlflow.models.model: Model logged without a signature and input example. Please set `input_example` parameter when logging the model to auto infer the model signature.\n",
      "2025/02/21 23:05:53 INFO mlflow.tracking._tracking_service.client: 🏃 View run merciful-cub-852 at: http://ec2-3-144-93-102.us-east-2.compute.amazonaws.com:5000/#/experiments/1/runs/896463abb4414b539e63472adeedcb74.\n",
      "2025/02/21 23:05:53 INFO mlflow.tracking._tracking_service.client: 🧪 View experiment at: http://ec2-3-144-93-102.us-east-2.compute.amazonaws.com:5000/#/experiments/1.\n"
     ]
    },
    {
     "ename": "ProfileNotFound",
     "evalue": "The config profile (arief-profile) could not be found",
     "output_type": "error",
     "traceback": [
      "\u001b[0;31m---------------------------------------------------------------------------\u001b[0m",
      "\u001b[0;31mProfileNotFound\u001b[0m                           Traceback (most recent call last)",
      "\u001b[1;32m/home/arief/Desktop/projects/mlops_zoomcamp/module_2/mlflow_in_practice/scenario_3.ipynb Cell 6\u001b[0m line \u001b[0;36m2\n\u001b[1;32m     <a href='vscode-notebook-cell:/home/arief/Desktop/projects/mlops_zoomcamp/module_2/mlflow_in_practice/scenario_3.ipynb#W4sZmlsZQ%3D%3D?line=16'>17</a>\u001b[0m \u001b[39m# Track metric with log_metric\u001b[39;00m\n\u001b[1;32m     <a href='vscode-notebook-cell:/home/arief/Desktop/projects/mlops_zoomcamp/module_2/mlflow_in_practice/scenario_3.ipynb#W4sZmlsZQ%3D%3D?line=17'>18</a>\u001b[0m mlflow\u001b[39m.\u001b[39mlog_metric(\u001b[39m\"\u001b[39m\u001b[39maccuracy\u001b[39m\u001b[39m\"\u001b[39m, accuracy_score(y, y_pred))\n\u001b[0;32m---> <a href='vscode-notebook-cell:/home/arief/Desktop/projects/mlops_zoomcamp/module_2/mlflow_in_practice/scenario_3.ipynb#W4sZmlsZQ%3D%3D?line=19'>20</a>\u001b[0m mlflow\u001b[39m.\u001b[39;49msklearn\u001b[39m.\u001b[39;49mlog_model(lr, artifact_path\u001b[39m=\u001b[39;49m\u001b[39m\"\u001b[39;49m\u001b[39mmodels\u001b[39;49m\u001b[39m\"\u001b[39;49m)\n\u001b[1;32m     <a href='vscode-notebook-cell:/home/arief/Desktop/projects/mlops_zoomcamp/module_2/mlflow_in_practice/scenario_3.ipynb#W4sZmlsZQ%3D%3D?line=20'>21</a>\u001b[0m \u001b[39mprint\u001b[39m(\u001b[39mf\u001b[39m\u001b[39m\"\u001b[39m\u001b[39mDefault artifacts URI: \u001b[39m\u001b[39m{\u001b[39;00mmlflow\u001b[39m.\u001b[39mget_artifact_uri()\u001b[39m}\u001b[39;00m\u001b[39m\"\u001b[39m)\n",
      "File \u001b[0;32m~/.local/lib/python3.8/site-packages/mlflow/sklearn/__init__.py:413\u001b[0m, in \u001b[0;36mlog_model\u001b[0;34m(sk_model, artifact_path, conda_env, code_paths, serialization_format, registered_model_name, signature, input_example, await_registration_for, pip_requirements, extra_pip_requirements, pyfunc_predict_fn, metadata)\u001b[0m\n\u001b[1;32m    334\u001b[0m \u001b[39m@format_docstring\u001b[39m(LOG_MODEL_PARAM_DOCS\u001b[39m.\u001b[39mformat(package_name\u001b[39m=\u001b[39m\u001b[39m\"\u001b[39m\u001b[39mscikit-learn\u001b[39m\u001b[39m\"\u001b[39m))\n\u001b[1;32m    335\u001b[0m \u001b[39mdef\u001b[39;00m \u001b[39mlog_model\u001b[39m(\n\u001b[1;32m    336\u001b[0m     sk_model,\n\u001b[0;32m   (...)\u001b[0m\n\u001b[1;32m    348\u001b[0m     metadata\u001b[39m=\u001b[39m\u001b[39mNone\u001b[39;00m,\n\u001b[1;32m    349\u001b[0m ):\n\u001b[1;32m    350\u001b[0m \u001b[39m    \u001b[39m\u001b[39m\"\"\"\u001b[39;00m\n\u001b[1;32m    351\u001b[0m \u001b[39m    Log a scikit-learn model as an MLflow artifact for the current run. Produces an MLflow Model\u001b[39;00m\n\u001b[1;32m    352\u001b[0m \u001b[39m    containing the following flavors:\u001b[39;00m\n\u001b[0;32m   (...)\u001b[0m\n\u001b[1;32m    411\u001b[0m \n\u001b[1;32m    412\u001b[0m \u001b[39m    \"\"\"\u001b[39;00m\n\u001b[0;32m--> 413\u001b[0m     \u001b[39mreturn\u001b[39;00m Model\u001b[39m.\u001b[39;49mlog(\n\u001b[1;32m    414\u001b[0m         artifact_path\u001b[39m=\u001b[39;49martifact_path,\n\u001b[1;32m    415\u001b[0m         flavor\u001b[39m=\u001b[39;49mmlflow\u001b[39m.\u001b[39;49msklearn,\n\u001b[1;32m    416\u001b[0m         sk_model\u001b[39m=\u001b[39;49msk_model,\n\u001b[1;32m    417\u001b[0m         conda_env\u001b[39m=\u001b[39;49mconda_env,\n\u001b[1;32m    418\u001b[0m         code_paths\u001b[39m=\u001b[39;49mcode_paths,\n\u001b[1;32m    419\u001b[0m         serialization_format\u001b[39m=\u001b[39;49mserialization_format,\n\u001b[1;32m    420\u001b[0m         registered_model_name\u001b[39m=\u001b[39;49mregistered_model_name,\n\u001b[1;32m    421\u001b[0m         signature\u001b[39m=\u001b[39;49msignature,\n\u001b[1;32m    422\u001b[0m         input_example\u001b[39m=\u001b[39;49minput_example,\n\u001b[1;32m    423\u001b[0m         await_registration_for\u001b[39m=\u001b[39;49mawait_registration_for,\n\u001b[1;32m    424\u001b[0m         pip_requirements\u001b[39m=\u001b[39;49mpip_requirements,\n\u001b[1;32m    425\u001b[0m         extra_pip_requirements\u001b[39m=\u001b[39;49mextra_pip_requirements,\n\u001b[1;32m    426\u001b[0m         pyfunc_predict_fn\u001b[39m=\u001b[39;49mpyfunc_predict_fn,\n\u001b[1;32m    427\u001b[0m         metadata\u001b[39m=\u001b[39;49mmetadata,\n\u001b[1;32m    428\u001b[0m     )\n",
      "File \u001b[0;32m~/.local/lib/python3.8/site-packages/mlflow/models/model.py:744\u001b[0m, in \u001b[0;36mModel.log\u001b[0;34m(cls, artifact_path, flavor, registered_model_name, await_registration_for, metadata, run_id, resources, **kwargs)\u001b[0m\n\u001b[1;32m    742\u001b[0m     \u001b[39melif\u001b[39;00m tracking_uri \u001b[39m==\u001b[39m \u001b[39m\"\u001b[39m\u001b[39mdatabricks\u001b[39m\u001b[39m\"\u001b[39m \u001b[39mor\u001b[39;00m get_uri_scheme(tracking_uri) \u001b[39m==\u001b[39m \u001b[39m\"\u001b[39m\u001b[39mdatabricks\u001b[39m\u001b[39m\"\u001b[39m:\n\u001b[1;32m    743\u001b[0m         _logger\u001b[39m.\u001b[39mwarning(_LOG_MODEL_MISSING_SIGNATURE_WARNING)\n\u001b[0;32m--> 744\u001b[0m mlflow\u001b[39m.\u001b[39;49mtracking\u001b[39m.\u001b[39;49mfluent\u001b[39m.\u001b[39;49mlog_artifacts(local_path, mlflow_model\u001b[39m.\u001b[39;49martifact_path, run_id)\n\u001b[1;32m    746\u001b[0m \u001b[39m# if the model_config kwarg is passed in, then log the model config as an params\u001b[39;00m\n\u001b[1;32m    747\u001b[0m \u001b[39mif\u001b[39;00m model_config \u001b[39m:=\u001b[39m kwargs\u001b[39m.\u001b[39mget(\u001b[39m\"\u001b[39m\u001b[39mmodel_config\u001b[39m\u001b[39m\"\u001b[39m):\n",
      "File \u001b[0;32m~/.local/lib/python3.8/site-packages/mlflow/tracking/fluent.py:1170\u001b[0m, in \u001b[0;36mlog_artifacts\u001b[0;34m(local_dir, artifact_path, run_id)\u001b[0m\n\u001b[1;32m   1136\u001b[0m \u001b[39m\u001b[39m\u001b[39m\"\"\"\u001b[39;00m\n\u001b[1;32m   1137\u001b[0m \u001b[39mLog all the contents of a local directory as artifacts of the run. If no run is active,\u001b[39;00m\n\u001b[1;32m   1138\u001b[0m \u001b[39mthis method will create a new active run.\u001b[39;00m\n\u001b[0;32m   (...)\u001b[0m\n\u001b[1;32m   1167\u001b[0m \u001b[39m            mlflow.log_artifacts(tmp_dir, artifact_path=\"states\")\u001b[39;00m\n\u001b[1;32m   1168\u001b[0m \u001b[39m\"\"\"\u001b[39;00m\n\u001b[1;32m   1169\u001b[0m run_id \u001b[39m=\u001b[39m run_id \u001b[39mor\u001b[39;00m _get_or_start_run()\u001b[39m.\u001b[39minfo\u001b[39m.\u001b[39mrun_id\n\u001b[0;32m-> 1170\u001b[0m MlflowClient()\u001b[39m.\u001b[39;49mlog_artifacts(run_id, local_dir, artifact_path)\n",
      "File \u001b[0;32m~/.local/lib/python3.8/site-packages/mlflow/tracking/client.py:1977\u001b[0m, in \u001b[0;36mMlflowClient.log_artifacts\u001b[0;34m(self, run_id, local_dir, artifact_path)\u001b[0m\n\u001b[1;32m   1930\u001b[0m \u001b[39mdef\u001b[39;00m \u001b[39mlog_artifacts\u001b[39m(\n\u001b[1;32m   1931\u001b[0m     \u001b[39mself\u001b[39m, run_id: \u001b[39mstr\u001b[39m, local_dir: \u001b[39mstr\u001b[39m, artifact_path: Optional[\u001b[39mstr\u001b[39m] \u001b[39m=\u001b[39m \u001b[39mNone\u001b[39;00m\n\u001b[1;32m   1932\u001b[0m ) \u001b[39m-\u001b[39m\u001b[39m>\u001b[39m \u001b[39mNone\u001b[39;00m:\n\u001b[1;32m   1933\u001b[0m \u001b[39m    \u001b[39m\u001b[39m\"\"\"Write a directory of files to the remote ``artifact_uri``.\u001b[39;00m\n\u001b[1;32m   1934\u001b[0m \n\u001b[1;32m   1935\u001b[0m \u001b[39m    Args:\u001b[39;00m\n\u001b[0;32m   (...)\u001b[0m\n\u001b[1;32m   1975\u001b[0m \n\u001b[1;32m   1976\u001b[0m \u001b[39m    \"\"\"\u001b[39;00m\n\u001b[0;32m-> 1977\u001b[0m     \u001b[39mself\u001b[39;49m\u001b[39m.\u001b[39;49m_tracking_client\u001b[39m.\u001b[39;49mlog_artifacts(run_id, local_dir, artifact_path)\n",
      "File \u001b[0;32m~/.local/lib/python3.8/site-packages/mlflow/tracking/_tracking_service/client.py:874\u001b[0m, in \u001b[0;36mTrackingServiceClient.log_artifacts\u001b[0;34m(self, run_id, local_dir, artifact_path)\u001b[0m\n\u001b[1;32m    865\u001b[0m \u001b[39mdef\u001b[39;00m \u001b[39mlog_artifacts\u001b[39m(\u001b[39mself\u001b[39m, run_id, local_dir, artifact_path\u001b[39m=\u001b[39m\u001b[39mNone\u001b[39;00m):\n\u001b[1;32m    866\u001b[0m \u001b[39m    \u001b[39m\u001b[39m\"\"\"Write a directory of files to the remote ``artifact_uri``.\u001b[39;00m\n\u001b[1;32m    867\u001b[0m \n\u001b[1;32m    868\u001b[0m \u001b[39m    Args:\u001b[39;00m\n\u001b[0;32m   (...)\u001b[0m\n\u001b[1;32m    872\u001b[0m \n\u001b[1;32m    873\u001b[0m \u001b[39m    \"\"\"\u001b[39;00m\n\u001b[0;32m--> 874\u001b[0m     \u001b[39mself\u001b[39;49m\u001b[39m.\u001b[39;49m_get_artifact_repo(run_id)\u001b[39m.\u001b[39;49mlog_artifacts(local_dir, artifact_path)\n",
      "File \u001b[0;32m~/.local/lib/python3.8/site-packages/mlflow/store/artifact/s3_artifact_repo.py:184\u001b[0m, in \u001b[0;36mS3ArtifactRepository.log_artifacts\u001b[0;34m(self, local_dir, artifact_path)\u001b[0m\n\u001b[1;32m    182\u001b[0m \u001b[39mif\u001b[39;00m artifact_path:\n\u001b[1;32m    183\u001b[0m     dest_path \u001b[39m=\u001b[39m posixpath\u001b[39m.\u001b[39mjoin(dest_path, artifact_path)\n\u001b[0;32m--> 184\u001b[0m s3_client \u001b[39m=\u001b[39m \u001b[39mself\u001b[39;49m\u001b[39m.\u001b[39;49m_get_s3_client()\n\u001b[1;32m    185\u001b[0m local_dir \u001b[39m=\u001b[39m os\u001b[39m.\u001b[39mpath\u001b[39m.\u001b[39mabspath(local_dir)\n\u001b[1;32m    186\u001b[0m \u001b[39mfor\u001b[39;00m root, _, filenames \u001b[39min\u001b[39;00m os\u001b[39m.\u001b[39mwalk(local_dir):\n",
      "File \u001b[0;32m~/.local/lib/python3.8/site-packages/mlflow/store/artifact/s3_artifact_repo.py:135\u001b[0m, in \u001b[0;36mS3ArtifactRepository._get_s3_client\u001b[0;34m(self)\u001b[0m\n\u001b[1;32m    134\u001b[0m \u001b[39mdef\u001b[39;00m \u001b[39m_get_s3_client\u001b[39m(\u001b[39mself\u001b[39m):\n\u001b[0;32m--> 135\u001b[0m     \u001b[39mreturn\u001b[39;00m _get_s3_client(\n\u001b[1;32m    136\u001b[0m         access_key_id\u001b[39m=\u001b[39;49m\u001b[39mself\u001b[39;49m\u001b[39m.\u001b[39;49m_access_key_id,\n\u001b[1;32m    137\u001b[0m         secret_access_key\u001b[39m=\u001b[39;49m\u001b[39mself\u001b[39;49m\u001b[39m.\u001b[39;49m_secret_access_key,\n\u001b[1;32m    138\u001b[0m         session_token\u001b[39m=\u001b[39;49m\u001b[39mself\u001b[39;49m\u001b[39m.\u001b[39;49m_session_token,\n\u001b[1;32m    139\u001b[0m     )\n",
      "File \u001b[0;32m~/.local/lib/python3.8/site-packages/mlflow/store/artifact/s3_artifact_repo.py:110\u001b[0m, in \u001b[0;36m_get_s3_client\u001b[0;34m(addressing_style, access_key_id, secret_access_key, session_token, region_name, s3_endpoint_url)\u001b[0m\n\u001b[1;32m    107\u001b[0m \u001b[39mif\u001b[39;00m \u001b[39mnot\u001b[39;00m addressing_style:\n\u001b[1;32m    108\u001b[0m     addressing_style \u001b[39m=\u001b[39m MLFLOW_BOTO_CLIENT_ADDRESSING_STYLE\u001b[39m.\u001b[39mget()\n\u001b[0;32m--> 110\u001b[0m \u001b[39mreturn\u001b[39;00m _cached_get_s3_client(\n\u001b[1;32m    111\u001b[0m     signature_version,\n\u001b[1;32m    112\u001b[0m     addressing_style,\n\u001b[1;32m    113\u001b[0m     s3_endpoint_url,\n\u001b[1;32m    114\u001b[0m     verify,\n\u001b[1;32m    115\u001b[0m     timestamp,\n\u001b[1;32m    116\u001b[0m     access_key_id\u001b[39m=\u001b[39;49maccess_key_id,\n\u001b[1;32m    117\u001b[0m     secret_access_key\u001b[39m=\u001b[39;49msecret_access_key,\n\u001b[1;32m    118\u001b[0m     session_token\u001b[39m=\u001b[39;49msession_token,\n\u001b[1;32m    119\u001b[0m     region_name\u001b[39m=\u001b[39;49mregion_name,\n\u001b[1;32m    120\u001b[0m )\n",
      "File \u001b[0;32m~/.local/lib/python3.8/site-packages/mlflow/store/artifact/s3_artifact_repo.py:69\u001b[0m, in \u001b[0;36m_cached_get_s3_client\u001b[0;34m(signature_version, addressing_style, s3_endpoint_url, verify, timestamp, access_key_id, secret_access_key, session_token, region_name)\u001b[0m\n\u001b[1;32m     65\u001b[0m     \u001b[39mfrom\u001b[39;00m \u001b[39mbotocore\u001b[39;00m \u001b[39mimport\u001b[39;00m UNSIGNED\n\u001b[1;32m     67\u001b[0m     signature_version \u001b[39m=\u001b[39m UNSIGNED\n\u001b[0;32m---> 69\u001b[0m \u001b[39mreturn\u001b[39;00m boto3\u001b[39m.\u001b[39;49mclient(\n\u001b[1;32m     70\u001b[0m     \u001b[39m\"\u001b[39;49m\u001b[39ms3\u001b[39;49m\u001b[39m\"\u001b[39;49m,\n\u001b[1;32m     71\u001b[0m     config\u001b[39m=\u001b[39;49mConfig(\n\u001b[1;32m     72\u001b[0m         signature_version\u001b[39m=\u001b[39;49msignature_version, s3\u001b[39m=\u001b[39;49m{\u001b[39m\"\u001b[39;49m\u001b[39maddressing_style\u001b[39;49m\u001b[39m\"\u001b[39;49m: addressing_style}\n\u001b[1;32m     73\u001b[0m     ),\n\u001b[1;32m     74\u001b[0m     endpoint_url\u001b[39m=\u001b[39;49ms3_endpoint_url,\n\u001b[1;32m     75\u001b[0m     verify\u001b[39m=\u001b[39;49mverify,\n\u001b[1;32m     76\u001b[0m     aws_access_key_id\u001b[39m=\u001b[39;49maccess_key_id,\n\u001b[1;32m     77\u001b[0m     aws_secret_access_key\u001b[39m=\u001b[39;49msecret_access_key,\n\u001b[1;32m     78\u001b[0m     aws_session_token\u001b[39m=\u001b[39;49msession_token,\n\u001b[1;32m     79\u001b[0m     region_name\u001b[39m=\u001b[39;49mregion_name,\n\u001b[1;32m     80\u001b[0m )\n",
      "File \u001b[0;32m~/.local/lib/python3.8/site-packages/boto3/__init__.py:92\u001b[0m, in \u001b[0;36mclient\u001b[0;34m(*args, **kwargs)\u001b[0m\n\u001b[1;32m     86\u001b[0m \u001b[39mdef\u001b[39;00m \u001b[39mclient\u001b[39m(\u001b[39m*\u001b[39margs, \u001b[39m*\u001b[39m\u001b[39m*\u001b[39mkwargs):\n\u001b[1;32m     87\u001b[0m \u001b[39m    \u001b[39m\u001b[39m\"\"\"\u001b[39;00m\n\u001b[1;32m     88\u001b[0m \u001b[39m    Create a low-level service client by name using the default session.\u001b[39;00m\n\u001b[1;32m     89\u001b[0m \n\u001b[1;32m     90\u001b[0m \u001b[39m    See :py:meth:`boto3.session.Session.client`.\u001b[39;00m\n\u001b[1;32m     91\u001b[0m \u001b[39m    \"\"\"\u001b[39;00m\n\u001b[0;32m---> 92\u001b[0m     \u001b[39mreturn\u001b[39;00m _get_default_session()\u001b[39m.\u001b[39mclient(\u001b[39m*\u001b[39margs, \u001b[39m*\u001b[39m\u001b[39m*\u001b[39mkwargs)\n",
      "File \u001b[0;32m~/.local/lib/python3.8/site-packages/boto3/__init__.py:80\u001b[0m, in \u001b[0;36m_get_default_session\u001b[0;34m()\u001b[0m\n\u001b[1;32m     73\u001b[0m \u001b[39m\u001b[39m\u001b[39m\"\"\"\u001b[39;00m\n\u001b[1;32m     74\u001b[0m \u001b[39mGet the default session, creating one if needed.\u001b[39;00m\n\u001b[1;32m     75\u001b[0m \n\u001b[1;32m     76\u001b[0m \u001b[39m:rtype: :py:class:`~boto3.session.Session`\u001b[39;00m\n\u001b[1;32m     77\u001b[0m \u001b[39m:return: The default session\u001b[39;00m\n\u001b[1;32m     78\u001b[0m \u001b[39m\"\"\"\u001b[39;00m\n\u001b[1;32m     79\u001b[0m \u001b[39mif\u001b[39;00m DEFAULT_SESSION \u001b[39mis\u001b[39;00m \u001b[39mNone\u001b[39;00m:\n\u001b[0;32m---> 80\u001b[0m     setup_default_session()\n\u001b[1;32m     81\u001b[0m _warn_deprecated_python()\n\u001b[1;32m     83\u001b[0m \u001b[39mreturn\u001b[39;00m DEFAULT_SESSION\n",
      "File \u001b[0;32m~/.local/lib/python3.8/site-packages/boto3/__init__.py:34\u001b[0m, in \u001b[0;36msetup_default_session\u001b[0;34m(**kwargs)\u001b[0m\n\u001b[1;32m     28\u001b[0m \u001b[39m\u001b[39m\u001b[39m\"\"\"\u001b[39;00m\n\u001b[1;32m     29\u001b[0m \u001b[39mSet up a default session, passing through any parameters to the session\u001b[39;00m\n\u001b[1;32m     30\u001b[0m \u001b[39mconstructor. There is no need to call this unless you wish to pass custom\u001b[39;00m\n\u001b[1;32m     31\u001b[0m \u001b[39mparameters, because a default session will be created for you.\u001b[39;00m\n\u001b[1;32m     32\u001b[0m \u001b[39m\"\"\"\u001b[39;00m\n\u001b[1;32m     33\u001b[0m \u001b[39mglobal\u001b[39;00m DEFAULT_SESSION\n\u001b[0;32m---> 34\u001b[0m DEFAULT_SESSION \u001b[39m=\u001b[39m Session(\u001b[39m*\u001b[39;49m\u001b[39m*\u001b[39;49mkwargs)\n",
      "File \u001b[0;32m~/.local/lib/python3.8/site-packages/boto3/session.py:88\u001b[0m, in \u001b[0;36mSession.__init__\u001b[0;34m(self, aws_access_key_id, aws_secret_access_key, aws_session_token, region_name, botocore_session, profile_name)\u001b[0m\n\u001b[1;32m     83\u001b[0m     \u001b[39mself\u001b[39m\u001b[39m.\u001b[39m_session\u001b[39m.\u001b[39mset_config_variable(\u001b[39m'\u001b[39m\u001b[39mregion\u001b[39m\u001b[39m'\u001b[39m, region_name)\n\u001b[1;32m     85\u001b[0m \u001b[39mself\u001b[39m\u001b[39m.\u001b[39mresource_factory \u001b[39m=\u001b[39m ResourceFactory(\n\u001b[1;32m     86\u001b[0m     \u001b[39mself\u001b[39m\u001b[39m.\u001b[39m_session\u001b[39m.\u001b[39mget_component(\u001b[39m'\u001b[39m\u001b[39mevent_emitter\u001b[39m\u001b[39m'\u001b[39m)\n\u001b[1;32m     87\u001b[0m )\n\u001b[0;32m---> 88\u001b[0m \u001b[39mself\u001b[39;49m\u001b[39m.\u001b[39;49m_setup_loader()\n\u001b[1;32m     89\u001b[0m \u001b[39mself\u001b[39m\u001b[39m.\u001b[39m_register_default_handlers()\n",
      "File \u001b[0;32m~/.local/lib/python3.8/site-packages/boto3/session.py:129\u001b[0m, in \u001b[0;36mSession._setup_loader\u001b[0;34m(self)\u001b[0m\n\u001b[1;32m    125\u001b[0m \u001b[39mdef\u001b[39;00m \u001b[39m_setup_loader\u001b[39m(\u001b[39mself\u001b[39m):\n\u001b[1;32m    126\u001b[0m \u001b[39m    \u001b[39m\u001b[39m\"\"\"\u001b[39;00m\n\u001b[1;32m    127\u001b[0m \u001b[39m    Setup loader paths so that we can load resources.\u001b[39;00m\n\u001b[1;32m    128\u001b[0m \u001b[39m    \"\"\"\u001b[39;00m\n\u001b[0;32m--> 129\u001b[0m     \u001b[39mself\u001b[39m\u001b[39m.\u001b[39m_loader \u001b[39m=\u001b[39m \u001b[39mself\u001b[39;49m\u001b[39m.\u001b[39;49m_session\u001b[39m.\u001b[39;49mget_component(\u001b[39m'\u001b[39;49m\u001b[39mdata_loader\u001b[39;49m\u001b[39m'\u001b[39;49m)\n\u001b[1;32m    130\u001b[0m     \u001b[39mself\u001b[39m\u001b[39m.\u001b[39m_loader\u001b[39m.\u001b[39msearch_paths\u001b[39m.\u001b[39mappend(\n\u001b[1;32m    131\u001b[0m         os\u001b[39m.\u001b[39mpath\u001b[39m.\u001b[39mjoin(os\u001b[39m.\u001b[39mpath\u001b[39m.\u001b[39mdirname(\u001b[39m__file__\u001b[39m), \u001b[39m'\u001b[39m\u001b[39mdata\u001b[39m\u001b[39m'\u001b[39m)\n\u001b[1;32m    132\u001b[0m     )\n",
      "File \u001b[0;32m~/.local/lib/python3.8/site-packages/botocore/session.py:802\u001b[0m, in \u001b[0;36mSession.get_component\u001b[0;34m(self, name)\u001b[0m\n\u001b[1;32m    800\u001b[0m \u001b[39mdef\u001b[39;00m \u001b[39mget_component\u001b[39m(\u001b[39mself\u001b[39m, name):\n\u001b[1;32m    801\u001b[0m     \u001b[39mtry\u001b[39;00m:\n\u001b[0;32m--> 802\u001b[0m         \u001b[39mreturn\u001b[39;00m \u001b[39mself\u001b[39;49m\u001b[39m.\u001b[39;49m_components\u001b[39m.\u001b[39;49mget_component(name)\n\u001b[1;32m    803\u001b[0m     \u001b[39mexcept\u001b[39;00m \u001b[39mValueError\u001b[39;00m:\n\u001b[1;32m    804\u001b[0m         \u001b[39mif\u001b[39;00m name \u001b[39min\u001b[39;00m [\u001b[39m'\u001b[39m\u001b[39mendpoint_resolver\u001b[39m\u001b[39m'\u001b[39m, \u001b[39m'\u001b[39m\u001b[39mexceptions_factory\u001b[39m\u001b[39m'\u001b[39m]:\n",
      "File \u001b[0;32m~/.local/lib/python3.8/site-packages/botocore/session.py:1140\u001b[0m, in \u001b[0;36mComponentLocator.get_component\u001b[0;34m(self, name)\u001b[0m\n\u001b[1;32m   1138\u001b[0m \u001b[39mif\u001b[39;00m name \u001b[39min\u001b[39;00m \u001b[39mself\u001b[39m\u001b[39m.\u001b[39m_deferred:\n\u001b[1;32m   1139\u001b[0m     factory \u001b[39m=\u001b[39m \u001b[39mself\u001b[39m\u001b[39m.\u001b[39m_deferred[name]\n\u001b[0;32m-> 1140\u001b[0m     \u001b[39mself\u001b[39m\u001b[39m.\u001b[39m_components[name] \u001b[39m=\u001b[39m factory()\n\u001b[1;32m   1141\u001b[0m     \u001b[39m# Only delete the component from the deferred dict after\u001b[39;00m\n\u001b[1;32m   1142\u001b[0m     \u001b[39m# successfully creating the object from the factory as well as\u001b[39;00m\n\u001b[1;32m   1143\u001b[0m     \u001b[39m# injecting the instantiated value into the _components dict.\u001b[39;00m\n\u001b[1;32m   1144\u001b[0m     \u001b[39mtry\u001b[39;00m:\n",
      "File \u001b[0;32m~/.local/lib/python3.8/site-packages/botocore/session.py:199\u001b[0m, in \u001b[0;36mSession._register_data_loader.<locals>.<lambda>\u001b[0;34m()\u001b[0m\n\u001b[1;32m    196\u001b[0m \u001b[39mdef\u001b[39;00m \u001b[39m_register_data_loader\u001b[39m(\u001b[39mself\u001b[39m):\n\u001b[1;32m    197\u001b[0m     \u001b[39mself\u001b[39m\u001b[39m.\u001b[39m_components\u001b[39m.\u001b[39mlazy_register_component(\n\u001b[1;32m    198\u001b[0m         \u001b[39m'\u001b[39m\u001b[39mdata_loader\u001b[39m\u001b[39m'\u001b[39m,\n\u001b[0;32m--> 199\u001b[0m         \u001b[39mlambda\u001b[39;00m: create_loader(\u001b[39mself\u001b[39;49m\u001b[39m.\u001b[39;49mget_config_variable(\u001b[39m'\u001b[39;49m\u001b[39mdata_path\u001b[39;49m\u001b[39m'\u001b[39;49m)),\n\u001b[1;32m    200\u001b[0m     )\n",
      "File \u001b[0;32m~/.local/lib/python3.8/site-packages/botocore/session.py:323\u001b[0m, in \u001b[0;36mSession.get_config_variable\u001b[0;34m(self, logical_name, methods)\u001b[0m\n\u001b[1;32m    319\u001b[0m \u001b[39mif\u001b[39;00m methods \u001b[39mis\u001b[39;00m \u001b[39mnot\u001b[39;00m \u001b[39mNone\u001b[39;00m:\n\u001b[1;32m    320\u001b[0m     \u001b[39mreturn\u001b[39;00m \u001b[39mself\u001b[39m\u001b[39m.\u001b[39m_get_config_variable_with_custom_methods(\n\u001b[1;32m    321\u001b[0m         logical_name, methods\n\u001b[1;32m    322\u001b[0m     )\n\u001b[0;32m--> 323\u001b[0m \u001b[39mreturn\u001b[39;00m \u001b[39mself\u001b[39;49m\u001b[39m.\u001b[39;49mget_component(\u001b[39m'\u001b[39;49m\u001b[39mconfig_store\u001b[39;49m\u001b[39m'\u001b[39;49m)\u001b[39m.\u001b[39;49mget_config_variable(\n\u001b[1;32m    324\u001b[0m     logical_name\n\u001b[1;32m    325\u001b[0m )\n",
      "File \u001b[0;32m~/.local/lib/python3.8/site-packages/botocore/configprovider.py:500\u001b[0m, in \u001b[0;36mConfigValueStore.get_config_variable\u001b[0;34m(self, logical_name)\u001b[0m\n\u001b[1;32m    498\u001b[0m     \u001b[39mreturn\u001b[39;00m \u001b[39mNone\u001b[39;00m\n\u001b[1;32m    499\u001b[0m provider \u001b[39m=\u001b[39m \u001b[39mself\u001b[39m\u001b[39m.\u001b[39m_mapping[logical_name]\n\u001b[0;32m--> 500\u001b[0m \u001b[39mreturn\u001b[39;00m provider\u001b[39m.\u001b[39;49mprovide()\n",
      "File \u001b[0;32m~/.local/lib/python3.8/site-packages/botocore/configprovider.py:706\u001b[0m, in \u001b[0;36mChainProvider.provide\u001b[0;34m(self)\u001b[0m\n\u001b[1;32m    699\u001b[0m \u001b[39m\u001b[39m\u001b[39m\"\"\"Provide the value from the first provider to return non-None.\u001b[39;00m\n\u001b[1;32m    700\u001b[0m \n\u001b[1;32m    701\u001b[0m \u001b[39mEach provider in the chain has its provide method called. The first\u001b[39;00m\n\u001b[1;32m    702\u001b[0m \u001b[39mone in the chain to return a non-None value is the returned from the\u001b[39;00m\n\u001b[1;32m    703\u001b[0m \u001b[39mChainProvider. When no non-None value is found, None is returned.\u001b[39;00m\n\u001b[1;32m    704\u001b[0m \u001b[39m\"\"\"\u001b[39;00m\n\u001b[1;32m    705\u001b[0m \u001b[39mfor\u001b[39;00m provider \u001b[39min\u001b[39;00m \u001b[39mself\u001b[39m\u001b[39m.\u001b[39m_providers:\n\u001b[0;32m--> 706\u001b[0m     value \u001b[39m=\u001b[39m provider\u001b[39m.\u001b[39;49mprovide()\n\u001b[1;32m    707\u001b[0m     \u001b[39mif\u001b[39;00m value \u001b[39mis\u001b[39;00m \u001b[39mnot\u001b[39;00m \u001b[39mNone\u001b[39;00m:\n\u001b[1;32m    708\u001b[0m         \u001b[39mreturn\u001b[39;00m \u001b[39mself\u001b[39m\u001b[39m.\u001b[39m_convert_type(value)\n",
      "File \u001b[0;32m~/.local/lib/python3.8/site-packages/botocore/configprovider.py:793\u001b[0m, in \u001b[0;36mScopedConfigProvider.provide\u001b[0;34m(self)\u001b[0m\n\u001b[1;32m    791\u001b[0m \u001b[39mdef\u001b[39;00m \u001b[39mprovide\u001b[39m(\u001b[39mself\u001b[39m):\n\u001b[1;32m    792\u001b[0m \u001b[39m    \u001b[39m\u001b[39m\"\"\"Provide a value from a config file property.\"\"\"\u001b[39;00m\n\u001b[0;32m--> 793\u001b[0m     scoped_config \u001b[39m=\u001b[39m \u001b[39mself\u001b[39;49m\u001b[39m.\u001b[39;49m_session\u001b[39m.\u001b[39;49mget_scoped_config()\n\u001b[1;32m    794\u001b[0m     \u001b[39mif\u001b[39;00m \u001b[39misinstance\u001b[39m(\u001b[39mself\u001b[39m\u001b[39m.\u001b[39m_config_var_name, \u001b[39mtuple\u001b[39m):\n\u001b[1;32m    795\u001b[0m         section_config \u001b[39m=\u001b[39m scoped_config\u001b[39m.\u001b[39mget(\u001b[39mself\u001b[39m\u001b[39m.\u001b[39m_config_var_name[\u001b[39m0\u001b[39m])\n",
      "File \u001b[0;32m~/.local/lib/python3.8/site-packages/botocore/session.py:422\u001b[0m, in \u001b[0;36mSession.get_scoped_config\u001b[0;34m(self)\u001b[0m\n\u001b[1;32m    417\u001b[0m     \u001b[39mreturn\u001b[39;00m profile_map\u001b[39m.\u001b[39mget(\u001b[39m'\u001b[39m\u001b[39mdefault\u001b[39m\u001b[39m'\u001b[39m, {})\n\u001b[1;32m    418\u001b[0m \u001b[39melif\u001b[39;00m profile_name \u001b[39mnot\u001b[39;00m \u001b[39min\u001b[39;00m profile_map:\n\u001b[1;32m    419\u001b[0m     \u001b[39m# Otherwise if they specified a profile, it has to\u001b[39;00m\n\u001b[1;32m    420\u001b[0m     \u001b[39m# exist (even if it's the default profile) otherwise\u001b[39;00m\n\u001b[1;32m    421\u001b[0m     \u001b[39m# we complain.\u001b[39;00m\n\u001b[0;32m--> 422\u001b[0m     \u001b[39mraise\u001b[39;00m ProfileNotFound(profile\u001b[39m=\u001b[39mprofile_name)\n\u001b[1;32m    423\u001b[0m \u001b[39melse\u001b[39;00m:\n\u001b[1;32m    424\u001b[0m     \u001b[39mreturn\u001b[39;00m profile_map[profile_name]\n",
      "\u001b[0;31mProfileNotFound\u001b[0m: The config profile (arief-profile) could not be found"
     ]
    }
   ],
   "source": [
    "from sklearn.linear_model import LogisticRegression\n",
    "from sklearn.datasets import load_iris\n",
    "from sklearn.metrics import accuracy_score\n",
    "\n",
    "mlflow.set_experiment(\"my-experiment-1\")\n",
    "\n",
    "with mlflow.start_run():\n",
    "\n",
    "    X,y = load_iris(return_X_y=True)\n",
    "\n",
    "    params = {\"C\": 0.1, \"random_state\": 42}\n",
    "    mlflow.log_params(params)\n",
    "    \n",
    "    lr = LogisticRegression(**params).fit(X, y)\n",
    "    y_pred = lr.predict(X)\n",
    "\n",
    "    # Track metric with log_metric\n",
    "    mlflow.log_metric(\"accuracy\", accuracy_score(y, y_pred))\n",
    "\n",
    "    mlflow.sklearn.log_model(lr, artifact_path=\"models\")\n",
    "    print(f\"Default artifacts URI: {mlflow.get_artifact_uri()}\")\n",
    "    "
   ]
  },
  {
   "cell_type": "code",
   "execution_count": 6,
   "metadata": {},
   "outputs": [
    {
     "data": {
      "text/plain": [
       "'2.2.3'"
      ]
     },
     "execution_count": 6,
     "metadata": {},
     "output_type": "execute_result"
    }
   ],
   "source": [
    "import urllib3\n",
    "\n",
    "urllib3.__version__"
   ]
  },
  {
   "cell_type": "code",
   "execution_count": 6,
   "metadata": {},
   "outputs": [
    {
     "data": {
      "text/plain": [
       "[<Experiment: artifact_location='file:///home/arief/Desktop/projects/mlops_zoomcamp/module_2/mlflow_in_practice/mlruns/226973183148448093', creation_time=1740144395286, experiment_id='226973183148448093', last_update_time=1740144395286, lifecycle_stage='active', name='my-experiment-1', tags={}>,\n",
       " <Experiment: artifact_location='file:///home/arief/Desktop/projects/mlops_zoomcamp/module_2/mlflow_in_practice/mlruns/0', creation_time=1740143943304, experiment_id='0', last_update_time=1740143943304, lifecycle_stage='active', name='Default', tags={}>]"
      ]
     },
     "execution_count": 6,
     "metadata": {},
     "output_type": "execute_result"
    }
   ],
   "source": [
    "mlflow.search_experiments()"
   ]
  },
  {
   "cell_type": "markdown",
   "metadata": {},
   "source": [
    "## Interacting with the model registry"
   ]
  },
  {
   "cell_type": "code",
   "execution_count": 7,
   "metadata": {},
   "outputs": [],
   "source": [
    "from mlflow.tracking import MlflowClient\n",
    "\n",
    "client = MlflowClient()"
   ]
  },
  {
   "cell_type": "code",
   "execution_count": 8,
   "metadata": {},
   "outputs": [
    {
     "name": "stdout",
     "output_type": "stream",
     "text": [
      "[]\n"
     ]
    }
   ],
   "source": [
    "from mlflow.exceptions import MlflowException\n",
    "\n",
    "try:\n",
    "    print(client.search_registered_models())\n",
    "except MlflowException:\n",
    "    print(\"It is not possible to access the model registry :(\")\n"
   ]
  },
  {
   "cell_type": "code",
   "execution_count": 29,
   "metadata": {},
   "outputs": [
    {
     "name": "stderr",
     "output_type": "stream",
     "text": [
      "Registered model 'iris_classifier' already exists. Creating a new version of this model...\n",
      "2025/02/21 21:00:57 INFO mlflow.store.model_registry.abstract_store: Waiting up to 300 seconds for model version to finish creation. Model name: iris_classifier, version 2\n",
      "Created version '2' of model 'iris_classifier'.\n"
     ]
    },
    {
     "data": {
      "text/plain": [
       "<ModelVersion: aliases=[], creation_timestamp=1740146457903, current_stage='None', description='', last_updated_timestamp=1740146457903, name='iris_classifier', run_id='79a64f86a9a042468e6056a0a5054ee5', run_link='', source='mlflow-artifacts:/1/79a64f86a9a042468e6056a0a5054ee5/artifacts/models', status='READY', status_message='', tags={}, user_id='', version='2'>"
      ]
     },
     "execution_count": 29,
     "metadata": {},
     "output_type": "execute_result"
    }
   ],
   "source": [
    "# Register a model\n",
    "\n",
    "run_id = client.search_runs(experiment_ids='1')[0].info.run_id\n",
    "run_id\n",
    "\n",
    "mlflow.register_model(\n",
    "    model_uri=f\"runs:/{run_id}/models\",\n",
    "    name=\"iris_classifier\"\n",
    ")"
   ]
  },
  {
   "cell_type": "code",
   "execution_count": 30,
   "metadata": {},
   "outputs": [
    {
     "name": "stdout",
     "output_type": "stream",
     "text": [
      "[<RegisteredModel: aliases={}, creation_timestamp=1740146425970, description='', last_updated_timestamp=1740146457903, latest_versions=[<ModelVersion: aliases=[], creation_timestamp=1740146457903, current_stage='None', description='', last_updated_timestamp=1740146457903, name='iris_classifier', run_id='79a64f86a9a042468e6056a0a5054ee5', run_link='', source='mlflow-artifacts:/1/79a64f86a9a042468e6056a0a5054ee5/artifacts/models', status='READY', status_message='', tags={}, user_id='', version='2'>], name='iris_classifier', tags={}>]\n"
     ]
    }
   ],
   "source": [
    "from mlflow.exceptions import MlflowException\n",
    "\n",
    "try:\n",
    "    print(client.search_registered_models())\n",
    "except MlflowException:\n",
    "    print(\"It is not possible to access the model registry :(\")\n"
   ]
  }
 ],
 "metadata": {
  "kernelspec": {
   "display_name": "Python 3",
   "language": "python",
   "name": "python3"
  },
  "language_info": {
   "codemirror_mode": {
    "name": "ipython",
    "version": 3
   },
   "file_extension": ".py",
   "mimetype": "text/x-python",
   "name": "python",
   "nbconvert_exporter": "python",
   "pygments_lexer": "ipython3",
   "version": "3.8.10"
  }
 },
 "nbformat": 4,
 "nbformat_minor": 2
}
