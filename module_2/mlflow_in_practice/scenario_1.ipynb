{
 "cells": [
  {
   "cell_type": "markdown",
   "metadata": {},
   "source": [
    "# MLflow in Practice\n",
    "\n",
    "## Scenarios\n",
    "\n",
    "Let's consider these 3 scenarios:\n",
    "1. A single data scientist participating in an ML competition.\n",
    "2. A cross-functional team with one data scientist working on an ML model.\n",
    "3. Multiple data scientist working on multiple ML models.\n",
    "\n",
    "## Configuring MLflow\n",
    "\n",
    "- Backend store: where MLflow save the metadata of your experiment\n",
    "    - Local filesystem\n",
    "    - SQLAlchemy compatible DB (e.g. SQLite)\n",
    "- Artifacts store:\n",
    "    - Local filesystem\n",
    "    - Remote (e.g. s3 bucket)\n",
    "- Tracking server:\n",
    "    - No tracking server\n",
    "    - Localhost\n",
    "    - Remote"
   ]
  },
  {
   "cell_type": "markdown",
   "metadata": {},
   "source": [
    "# Scenario 1: A single data scientist participating in an ML competition.\n",
    "\n",
    "MLflow setup:\n",
    "- Backend store: Local filesystem\n",
    "- Artifacts store: Local filesystem\n",
    "- Tracking server: No"
   ]
  },
  {
   "cell_type": "code",
   "execution_count": 1,
   "metadata": {},
   "outputs": [
    {
     "name": "stdout",
     "output_type": "stream",
     "text": [
      "tracking URI: file:///home/arief/Desktop/projects/mlops_zoomcamp/module_2/mlflow_in_practice/mlruns\n"
     ]
    }
   ],
   "source": [
    "# Import libraries\n",
    "import mlflow\n",
    "\n",
    "# Default tracking URI\n",
    "print(f\"tracking URI: {mlflow.get_tracking_uri()}\")"
   ]
  },
  {
   "cell_type": "code",
   "execution_count": 2,
   "metadata": {},
   "outputs": [
    {
     "data": {
      "text/plain": [
       "[<Experiment: artifact_location='file:///home/arief/Desktop/projects/mlops_zoomcamp/module_2/mlflow_in_practice/mlruns/0', creation_time=1740143943304, experiment_id='0', last_update_time=1740143943304, lifecycle_stage='active', name='Default', tags={}>]"
      ]
     },
     "execution_count": 2,
     "metadata": {},
     "output_type": "execute_result"
    }
   ],
   "source": [
    "# List all experiments\n",
    "mlflow.search_experiments()"
   ]
  },
  {
   "cell_type": "code",
   "execution_count": 5,
   "metadata": {},
   "outputs": [
    {
     "name": "stderr",
     "output_type": "stream",
     "text": [
      "2025/02/21 20:27:55 WARNING mlflow.models.model: Model logged without a signature and input example. Please set `input_example` parameter when logging the model to auto infer the model signature.\n"
     ]
    },
    {
     "name": "stdout",
     "output_type": "stream",
     "text": [
      "Default artifacts URI: file:///home/arief/Desktop/projects/mlops_zoomcamp/module_2/mlflow_in_practice/mlruns/226973183148448093/806d9235a3b14ec996f270b559776b1b/artifacts\n"
     ]
    }
   ],
   "source": [
    "from sklearn.linear_model import LogisticRegression\n",
    "from sklearn.datasets import load_iris\n",
    "from sklearn.metrics import accuracy_score\n",
    "\n",
    "mlflow.set_experiment(\"my-experiment-1\")\n",
    "\n",
    "with mlflow.start_run():\n",
    "\n",
    "    X,y = load_iris(return_X_y=True)\n",
    "\n",
    "    params = {\"C\": 0.1, \"random_state\": 42}\n",
    "    mlflow.log_params(params)\n",
    "    \n",
    "    lr = LogisticRegression(**params).fit(X, y)\n",
    "    y_pred = lr.predict(X)\n",
    "\n",
    "    # Track metric with log_metric\n",
    "    mlflow.log_metric(\"accuracy\", accuracy_score(y, y_pred))\n",
    "\n",
    "    mlflow.sklearn.log_model(lr, artifact_path=\"models\")\n",
    "    print(f\"Default artifacts URI: {mlflow.get_artifact_uri()}\")\n",
    "    "
   ]
  },
  {
   "cell_type": "code",
   "execution_count": 6,
   "metadata": {},
   "outputs": [
    {
     "data": {
      "text/plain": [
       "[<Experiment: artifact_location='file:///home/arief/Desktop/projects/mlops_zoomcamp/module_2/mlflow_in_practice/mlruns/226973183148448093', creation_time=1740144395286, experiment_id='226973183148448093', last_update_time=1740144395286, lifecycle_stage='active', name='my-experiment-1', tags={}>,\n",
       " <Experiment: artifact_location='file:///home/arief/Desktop/projects/mlops_zoomcamp/module_2/mlflow_in_practice/mlruns/0', creation_time=1740143943304, experiment_id='0', last_update_time=1740143943304, lifecycle_stage='active', name='Default', tags={}>]"
      ]
     },
     "execution_count": 6,
     "metadata": {},
     "output_type": "execute_result"
    }
   ],
   "source": [
    "mlflow.search_experiments()"
   ]
  },
  {
   "cell_type": "markdown",
   "metadata": {},
   "source": [
    "## Interacting with the model registry"
   ]
  },
  {
   "cell_type": "code",
   "execution_count": 7,
   "metadata": {},
   "outputs": [],
   "source": [
    "from mlflow.tracking import MlflowClient\n",
    "\n",
    "client = MlflowClient()"
   ]
  },
  {
   "cell_type": "code",
   "execution_count": 9,
   "metadata": {},
   "outputs": [
    {
     "name": "stdout",
     "output_type": "stream",
     "text": [
      "[]\n"
     ]
    }
   ],
   "source": [
    "from mlflow.exceptions import MlflowException\n",
    "\n",
    "try:\n",
    "    print(client.search_registered_models())\n",
    "except MlflowException:\n",
    "    print(\"It is not possible to access the model registry :(\")\n"
   ]
  }
 ],
 "metadata": {
  "kernelspec": {
   "display_name": "Python 3",
   "language": "python",
   "name": "python3"
  },
  "language_info": {
   "codemirror_mode": {
    "name": "ipython",
    "version": 3
   },
   "file_extension": ".py",
   "mimetype": "text/x-python",
   "name": "python",
   "nbconvert_exporter": "python",
   "pygments_lexer": "ipython3",
   "version": "3.8.10"
  }
 },
 "nbformat": 4,
 "nbformat_minor": 2
}
