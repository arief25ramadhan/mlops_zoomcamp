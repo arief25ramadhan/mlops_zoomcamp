{
 "cells": [
  {
   "cell_type": "markdown",
   "metadata": {},
   "source": [
    "# MLflow in Practice\n",
    "\n",
    "## Scenarios\n",
    "\n",
    "Let's consider these 3 scenarios:\n",
    "1. A single data scientist participating in an ML competition.\n",
    "2. A cross-functional team with one data scientist working on an ML model.\n",
    "3. Multiple data scientist working on multiple ML models.\n",
    "\n",
    "## Configuring MLflow\n",
    "\n",
    "- Backend store: where MLflow save the metadata of your experiment\n",
    "    - Local filesystem\n",
    "    - SQLAlchemy compatible DB (e.g. SQLite)\n",
    "- Artifacts store:\n",
    "    - Local filesystem\n",
    "    - Remote (e.g. s3 bucket)\n",
    "- Tracking server:\n",
    "    - No tracking server\n",
    "    - Localhost\n",
    "    - Remote"
   ]
  },
  {
   "cell_type": "markdown",
   "metadata": {},
   "source": [
    "# Scenario 2: A cross-functional team with one data scientist working on an ML model.\n",
    "MLflow setup:\n",
    "- Backend store: SQLite database\n",
    "- Artifacts store: Local filesystem\n",
    "- Tracking server: Yes, local server\n",
    "\n",
    "The experiments can be explored locally by accessing the local tracking server. To run this example you need to launch the MLflow server locally by running the following command in your terminal:\n",
    "\n",
    "`mlflow server --backend-store-uri sqlite:///backend.db`\n",
    "\n",
    "After running the command above, if we start an experiment, the metadata will be saved in the `backend.db` file, and not in an mlruns folder."
   ]
  },
  {
   "cell_type": "code",
   "execution_count": 31,
   "metadata": {},
   "outputs": [],
   "source": [
    "# Before begin, run this first in terminal: \n",
    "# mlflow server --backend-store-uri sqlite:///backend.db\n",
    "\n",
    "# Import libraries\n",
    "import mlflow\n",
    "\n",
    "# Set tracking URI\n",
    "mlflow.set_tracking_uri(\"http://127.0.0.1:5000\")"
   ]
  },
  {
   "cell_type": "code",
   "execution_count": 5,
   "metadata": {},
   "outputs": [
    {
     "name": "stdout",
     "output_type": "stream",
     "text": [
      "Tracking URI: http://127.0.0.1:5000\n"
     ]
    }
   ],
   "source": [
    "print(f\"Tracking URI: {mlflow.get_tracking_uri()}\")"
   ]
  },
  {
   "cell_type": "code",
   "execution_count": 6,
   "metadata": {},
   "outputs": [
    {
     "name": "stderr",
     "output_type": "stream",
     "text": [
      "2025/02/21 20:46:44 INFO mlflow.tracking.fluent: Experiment with name 'my-experiment-1' does not exist. Creating a new experiment.\n",
      "2025/02/21 20:46:45 WARNING mlflow.models.model: Model logged without a signature and input example. Please set `input_example` parameter when logging the model to auto infer the model signature.\n",
      "2025/02/21 20:46:46 INFO mlflow.tracking._tracking_service.client: 🏃 View run resilient-smelt-354 at: http://127.0.0.1:5000/#/experiments/1/runs/79a64f86a9a042468e6056a0a5054ee5.\n",
      "2025/02/21 20:46:46 INFO mlflow.tracking._tracking_service.client: 🧪 View experiment at: http://127.0.0.1:5000/#/experiments/1.\n"
     ]
    },
    {
     "name": "stdout",
     "output_type": "stream",
     "text": [
      "Default artifacts URI: mlflow-artifacts:/1/79a64f86a9a042468e6056a0a5054ee5/artifacts\n"
     ]
    }
   ],
   "source": [
    "from sklearn.linear_model import LogisticRegression\n",
    "from sklearn.datasets import load_iris\n",
    "from sklearn.metrics import accuracy_score\n",
    "\n",
    "mlflow.set_experiment(\"my-experiment-1\")\n",
    "\n",
    "with mlflow.start_run():\n",
    "\n",
    "    X,y = load_iris(return_X_y=True)\n",
    "\n",
    "    params = {\"C\": 0.1, \"random_state\": 42}\n",
    "    mlflow.log_params(params)\n",
    "    \n",
    "    lr = LogisticRegression(**params).fit(X, y)\n",
    "    y_pred = lr.predict(X)\n",
    "\n",
    "    # Track metric with log_metric\n",
    "    mlflow.log_metric(\"accuracy\", accuracy_score(y, y_pred))\n",
    "\n",
    "    mlflow.sklearn.log_model(lr, artifact_path=\"models\")\n",
    "    print(f\"Default artifacts URI: {mlflow.get_artifact_uri()}\")\n",
    "    "
   ]
  },
  {
   "cell_type": "code",
   "execution_count": 6,
   "metadata": {},
   "outputs": [
    {
     "data": {
      "text/plain": [
       "[<Experiment: artifact_location='file:///home/arief/Desktop/projects/mlops_zoomcamp/module_2/mlflow_in_practice/mlruns/226973183148448093', creation_time=1740144395286, experiment_id='226973183148448093', last_update_time=1740144395286, lifecycle_stage='active', name='my-experiment-1', tags={}>,\n",
       " <Experiment: artifact_location='file:///home/arief/Desktop/projects/mlops_zoomcamp/module_2/mlflow_in_practice/mlruns/0', creation_time=1740143943304, experiment_id='0', last_update_time=1740143943304, lifecycle_stage='active', name='Default', tags={}>]"
      ]
     },
     "execution_count": 6,
     "metadata": {},
     "output_type": "execute_result"
    }
   ],
   "source": [
    "mlflow.search_experiments()"
   ]
  },
  {
   "cell_type": "markdown",
   "metadata": {},
   "source": [
    "## Interacting with the model registry"
   ]
  },
  {
   "cell_type": "code",
   "execution_count": 7,
   "metadata": {},
   "outputs": [],
   "source": [
    "from mlflow.tracking import MlflowClient\n",
    "\n",
    "client = MlflowClient()"
   ]
  },
  {
   "cell_type": "code",
   "execution_count": 8,
   "metadata": {},
   "outputs": [
    {
     "name": "stdout",
     "output_type": "stream",
     "text": [
      "[]\n"
     ]
    }
   ],
   "source": [
    "from mlflow.exceptions import MlflowException\n",
    "\n",
    "try:\n",
    "    print(client.search_registered_models())\n",
    "except MlflowException:\n",
    "    print(\"It is not possible to access the model registry :(\")\n"
   ]
  },
  {
   "cell_type": "code",
   "execution_count": 29,
   "metadata": {},
   "outputs": [
    {
     "name": "stderr",
     "output_type": "stream",
     "text": [
      "Registered model 'iris_classifier' already exists. Creating a new version of this model...\n",
      "2025/02/21 21:00:57 INFO mlflow.store.model_registry.abstract_store: Waiting up to 300 seconds for model version to finish creation. Model name: iris_classifier, version 2\n",
      "Created version '2' of model 'iris_classifier'.\n"
     ]
    },
    {
     "data": {
      "text/plain": [
       "<ModelVersion: aliases=[], creation_timestamp=1740146457903, current_stage='None', description='', last_updated_timestamp=1740146457903, name='iris_classifier', run_id='79a64f86a9a042468e6056a0a5054ee5', run_link='', source='mlflow-artifacts:/1/79a64f86a9a042468e6056a0a5054ee5/artifacts/models', status='READY', status_message='', tags={}, user_id='', version='2'>"
      ]
     },
     "execution_count": 29,
     "metadata": {},
     "output_type": "execute_result"
    }
   ],
   "source": [
    "# Register a model\n",
    "\n",
    "run_id = client.search_runs(experiment_ids='1')[0].info.run_id\n",
    "run_id\n",
    "\n",
    "mlflow.register_model(\n",
    "    model_uri=f\"runs:/{run_id}/models\",\n",
    "    name=\"iris_classifier\"\n",
    ")"
   ]
  },
  {
   "cell_type": "code",
   "execution_count": 30,
   "metadata": {},
   "outputs": [
    {
     "name": "stdout",
     "output_type": "stream",
     "text": [
      "[<RegisteredModel: aliases={}, creation_timestamp=1740146425970, description='', last_updated_timestamp=1740146457903, latest_versions=[<ModelVersion: aliases=[], creation_timestamp=1740146457903, current_stage='None', description='', last_updated_timestamp=1740146457903, name='iris_classifier', run_id='79a64f86a9a042468e6056a0a5054ee5', run_link='', source='mlflow-artifacts:/1/79a64f86a9a042468e6056a0a5054ee5/artifacts/models', status='READY', status_message='', tags={}, user_id='', version='2'>], name='iris_classifier', tags={}>]\n"
     ]
    }
   ],
   "source": [
    "from mlflow.exceptions import MlflowException\n",
    "\n",
    "try:\n",
    "    print(client.search_registered_models())\n",
    "except MlflowException:\n",
    "    print(\"It is not possible to access the model registry :(\")\n"
   ]
  }
 ],
 "metadata": {
  "kernelspec": {
   "display_name": "Python 3",
   "language": "python",
   "name": "python3"
  },
  "language_info": {
   "codemirror_mode": {
    "name": "ipython",
    "version": 3
   },
   "file_extension": ".py",
   "mimetype": "text/x-python",
   "name": "python",
   "nbconvert_exporter": "python",
   "pygments_lexer": "ipython3",
   "version": "3.8.10"
  }
 },
 "nbformat": 4,
 "nbformat_minor": 2
}
